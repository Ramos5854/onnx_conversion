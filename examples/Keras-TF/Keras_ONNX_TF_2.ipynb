{
 "cells": [
  {
   "cell_type": "markdown",
   "metadata": {},
   "source": [
    "## Convert a Custom Model for MNIST Dataset to ONNX and Inference with ONNX Runtime\n",
    "\n",
    "This example performs a conversion of a 'hand-crafted' CNN for the MNIST dataset, loosely based on the lenet CNN. It creates a model in keras, evaluates it, converts it to ONNX format. Then, it loads the created ONNX file to perform predictions and compare it againt keras' predictions using ONNX Runtime.\n",
    "Lastly, the model is converted into a TensorFlow framework\n",
    "\n",
    "**Keras2Onnx**\n",
    "https://github.com/onnx/keras-onnx/blob/master/tutorial/TensorFlow_Keras_MNIST.ipynb\n",
    "\n",
    "**Onnx2TF**\n",
    "https://github.com/onnx/onnx-tensorflow#installation\n"
   ]
  },
  {
   "cell_type": "code",
   "execution_count": 1,
   "metadata": {},
   "outputs": [
    {
     "ename": "ModuleNotFoundError",
     "evalue": "No module named 'matplotlib'",
     "output_type": "error",
     "traceback": [
      "\u001b[1;31m---------------------------------------------------------------------------\u001b[0m",
      "\u001b[1;31mModuleNotFoundError\u001b[0m                       Traceback (most recent call last)",
      "\u001b[1;32m<ipython-input-1-bb4f7ff1b10d>\u001b[0m in \u001b[0;36m<module>\u001b[1;34m\u001b[0m\n\u001b[0;32m      3\u001b[0m \u001b[1;32mimport\u001b[0m \u001b[0mtensorflow\u001b[0m \u001b[1;32mas\u001b[0m \u001b[0mtf\u001b[0m\u001b[1;33m\u001b[0m\u001b[1;33m\u001b[0m\u001b[0m\n\u001b[0;32m      4\u001b[0m \u001b[1;33m\u001b[0m\u001b[0m\n\u001b[1;32m----> 5\u001b[1;33m \u001b[1;32mimport\u001b[0m \u001b[0mmatplotlib\u001b[0m\u001b[1;33m.\u001b[0m\u001b[0mpyplot\u001b[0m \u001b[1;32mas\u001b[0m \u001b[0mplt\u001b[0m\u001b[1;33m\u001b[0m\u001b[1;33m\u001b[0m\u001b[0m\n\u001b[0m\u001b[0;32m      6\u001b[0m \u001b[1;32mimport\u001b[0m \u001b[0mnumpy\u001b[0m \u001b[1;32mas\u001b[0m \u001b[0mnp\u001b[0m\u001b[1;33m\u001b[0m\u001b[1;33m\u001b[0m\u001b[0m\n\u001b[0;32m      7\u001b[0m \u001b[1;32mimport\u001b[0m \u001b[0mpandas\u001b[0m \u001b[1;32mas\u001b[0m \u001b[0mpd\u001b[0m\u001b[1;33m\u001b[0m\u001b[1;33m\u001b[0m\u001b[0m\n",
      "\u001b[1;31mModuleNotFoundError\u001b[0m: No module named 'matplotlib'"
     ]
    }
   ],
   "source": [
    "import sys\n",
    "import os\n",
    "import tensorflow as tf\n",
    "\n",
    "import matplotlib.pyplot as plt\n",
    "import numpy as np\n",
    "import pandas as pd\n",
    "import time\n",
    "\n",
    "print(\"TensorFlow version: \", tf.__version__)\n",
    "print(\"Numpy version: \", numpy.__version__)"
   ]
  },
  {
   "cell_type": "code",
   "execution_count": null,
   "metadata": {},
   "outputs": [],
   "source": [
    "#### Keras to ONNX\n",
    "1. "
   ]
  },
  {
   "cell_type": "code",
   "execution_count": 15,
   "metadata": {},
   "outputs": [
    {
     "name": "stdout",
     "output_type": "stream",
     "text": [
      "Training dataset has 60000\n",
      "Testing dataset has 10000\n",
      "Feature shape is (1, 28, 28)\n"
     ]
    }
   ],
   "source": [
    "# Preparing MNIST Dataset\n",
    "\n",
    "# Get MNIST dataset\n",
    "mnist = tf.keras.datasets.mnist\n",
    "# Load its data into training and test vectors\n",
    "(x_train, y_train),(x_test, y_test) = mnist.load_data()\n",
    "# Normalize the data\n",
    "x_train, x_test = x_train / 255.0, x_test / 255.0\n",
    "# Collect feature size info\n",
    "imgSize0=len(x_train[0])\n",
    "imgSize1=len(x_train[0][0])\n",
    "numPixels=imgSize0*imgSize1\n",
    "numTrainImages=len(x_train)\n",
    "featureShape=(1,imgSize0,imgSize1)\n",
    "\n",
    "print(\"Training dataset has \"+str(numTrainImages))\n",
    "print(\"Testing dataset has \"+str(len(x_test)))\n",
    "print(\"Feature shape is \"+str(featureShape))"
   ]
  },
  {
   "cell_type": "code",
   "execution_count": 16,
   "metadata": {},
   "outputs": [
    {
     "data": {
      "text/html": [
       "<div>\n",
       "<style scoped>\n",
       "    .dataframe tbody tr th:only-of-type {\n",
       "        vertical-align: middle;\n",
       "    }\n",
       "\n",
       "    .dataframe tbody tr th {\n",
       "        vertical-align: top;\n",
       "    }\n",
       "\n",
       "    .dataframe thead th {\n",
       "        text-align: right;\n",
       "    }\n",
       "</style>\n",
       "<table border=\"1\" class=\"dataframe\">\n",
       "  <thead>\n",
       "    <tr style=\"text-align: right;\">\n",
       "      <th></th>\n",
       "      <th>Label</th>\n",
       "      <th>Train Count</th>\n",
       "      <th>Test Count</th>\n",
       "    </tr>\n",
       "  </thead>\n",
       "  <tbody>\n",
       "    <tr>\n",
       "      <th>0</th>\n",
       "      <td>0</td>\n",
       "      <td>5923</td>\n",
       "      <td>980</td>\n",
       "    </tr>\n",
       "    <tr>\n",
       "      <th>1</th>\n",
       "      <td>1</td>\n",
       "      <td>6742</td>\n",
       "      <td>1135</td>\n",
       "    </tr>\n",
       "    <tr>\n",
       "      <th>2</th>\n",
       "      <td>2</td>\n",
       "      <td>5958</td>\n",
       "      <td>1032</td>\n",
       "    </tr>\n",
       "    <tr>\n",
       "      <th>3</th>\n",
       "      <td>3</td>\n",
       "      <td>6131</td>\n",
       "      <td>1010</td>\n",
       "    </tr>\n",
       "    <tr>\n",
       "      <th>4</th>\n",
       "      <td>4</td>\n",
       "      <td>5842</td>\n",
       "      <td>982</td>\n",
       "    </tr>\n",
       "    <tr>\n",
       "      <th>5</th>\n",
       "      <td>5</td>\n",
       "      <td>5421</td>\n",
       "      <td>892</td>\n",
       "    </tr>\n",
       "    <tr>\n",
       "      <th>6</th>\n",
       "      <td>6</td>\n",
       "      <td>5918</td>\n",
       "      <td>958</td>\n",
       "    </tr>\n",
       "    <tr>\n",
       "      <th>7</th>\n",
       "      <td>7</td>\n",
       "      <td>6265</td>\n",
       "      <td>1028</td>\n",
       "    </tr>\n",
       "    <tr>\n",
       "      <th>8</th>\n",
       "      <td>8</td>\n",
       "      <td>5851</td>\n",
       "      <td>974</td>\n",
       "    </tr>\n",
       "    <tr>\n",
       "      <th>9</th>\n",
       "      <td>9</td>\n",
       "      <td>5949</td>\n",
       "      <td>1009</td>\n",
       "    </tr>\n",
       "  </tbody>\n",
       "</table>\n",
       "</div>"
      ],
      "text/plain": [
       "   Label  Train Count  Test Count\n",
       "0      0         5923         980\n",
       "1      1         6742        1135\n",
       "2      2         5958        1032\n",
       "3      3         6131        1010\n",
       "4      4         5842         982\n",
       "5      5         5421         892\n",
       "6      6         5918         958\n",
       "7      7         6265        1028\n",
       "8      8         5851         974\n",
       "9      9         5949        1009"
      ]
     },
     "execution_count": 16,
     "metadata": {},
     "output_type": "execute_result"
    }
   ],
   "source": [
    "# Check training and test label counts\n",
    "\n",
    "# Training\n",
    "train_labels_count = np.unique(y_train, return_counts=True)\n",
    "# Testing\n",
    "test_labels_count = np.unique(y_test, return_counts=True)\n",
    "\n",
    "dataframe_labels = pd.DataFrame({'Label':train_labels_count[0], 'Train Count':train_labels_count[1], 'Test Count':test_labels_count[1]})\n",
    "dataframe_labels"
   ]
  },
  {
   "cell_type": "markdown",
   "metadata": {},
   "source": [
    "## Building or Loading the CNN Model with Keras\n",
    "\n",
    "If you are building a model in keras to convert it to ONNX, it's realy important that the first layer defines the input_shape, otherwise you will see errors in the ONNX conversion. See Issue #493 for more information."
   ]
  },
  {
   "cell_type": "code",
   "execution_count": 17,
   "metadata": {},
   "outputs": [
    {
     "name": "stdout",
     "output_type": "stream",
     "text": [
      "creating a new model\n",
      "Model: \"sequential\"\n",
      "_________________________________________________________________\n",
      "Layer (type)                 Output Shape              Param #   \n",
      "=================================================================\n",
      "flatten (Flatten)            (None, 784)               0         \n",
      "_________________________________________________________________\n",
      "dense (Dense)                (None, 8)                 6280      \n",
      "_________________________________________________________________\n",
      "dense_1 (Dense)              (None, 10)                90        \n",
      "=================================================================\n",
      "Total params: 6,370\n",
      "Trainable params: 6,370\n",
      "Non-trainable params: 0\n",
      "_________________________________________________________________\n"
     ]
    }
   ],
   "source": [
    "# Clearup everything before running\n",
    "tf.keras.backend.clear_session()\n",
    "\n",
    "print ('creating a new model')\n",
    "# Clearup everything before running\n",
    "tf.keras.backend.clear_session()\n",
    "\n",
    "# Create model\n",
    "model = tf.keras.models.Sequential()\n",
    "\n",
    "# Add layers\n",
    "# The first layer MUST have input_shape. See the observation above.\n",
    "model.add(tf.keras.layers.Flatten(input_shape=(28, 28, 1)))\n",
    "model.add(tf.keras.layers.Dense(8, activation='relu'))\n",
    "model.add(tf.keras.layers.Dense(10, activation='softmax'))\n",
    "\n",
    "# Build model and print summary\n",
    "model.build(input_shape=featureShape)\n",
    "model.summary()"
   ]
  },
  {
   "cell_type": "code",
   "execution_count": 31,
   "metadata": {},
   "outputs": [
    {
     "data": {
      "text/plain": [
       "<tf.Tensor 'flatten_input:0' shape=(None, 28, 28, 1) dtype=float32>"
      ]
     },
     "execution_count": 31,
     "metadata": {},
     "output_type": "execute_result"
    }
   ],
   "source": [
    "model.input"
   ]
  },
  {
   "cell_type": "code",
   "execution_count": 18,
   "metadata": {},
   "outputs": [
    {
     "name": "stdout",
     "output_type": "stream",
     "text": [
      "Training Model\n",
      "Epoch 1/15\n",
      "1875/1875 [==============================] - 3s 2ms/step - loss: 0.5521 - accuracy: 0.8407\n",
      "Epoch 2/15\n",
      "1875/1875 [==============================] - 2s 1ms/step - loss: 0.3352 - accuracy: 0.9045\n",
      "Epoch 3/15\n",
      "1875/1875 [==============================] - 2s 1ms/step - loss: 0.3114 - accuracy: 0.9111\n",
      "Epoch 4/15\n",
      "1875/1875 [==============================] - 3s 1ms/step - loss: 0.2981 - accuracy: 0.9147\n",
      "Epoch 5/15\n",
      "1875/1875 [==============================] - 3s 1ms/step - loss: 0.2881 - accuracy: 0.9176\n",
      "Epoch 6/15\n",
      "1875/1875 [==============================] - 3s 1ms/step - loss: 0.2821 - accuracy: 0.9207\n",
      "Epoch 7/15\n",
      "1875/1875 [==============================] - 3s 1ms/step - loss: 0.2767 - accuracy: 0.9216\n",
      "Epoch 8/15\n",
      "1875/1875 [==============================] - 3s 1ms/step - loss: 0.2715 - accuracy: 0.9233\n",
      "Epoch 9/15\n",
      "1875/1875 [==============================] - 3s 1ms/step - loss: 0.2678 - accuracy: 0.9253\n",
      "Epoch 10/15\n",
      "1875/1875 [==============================] - 3s 1ms/step - loss: 0.2637 - accuracy: 0.9253\n",
      "Epoch 11/15\n",
      "1875/1875 [==============================] - 3s 1ms/step - loss: 0.2596 - accuracy: 0.9271\n",
      "Epoch 12/15\n",
      "1875/1875 [==============================] - 3s 1ms/step - loss: 0.2562 - accuracy: 0.9275\n",
      "Epoch 13/15\n",
      "1875/1875 [==============================] - 3s 2ms/step - loss: 0.2519 - accuracy: 0.9284\n",
      "Epoch 14/15\n",
      "1875/1875 [==============================] - 3s 1ms/step - loss: 0.2486 - accuracy: 0.9299\n",
      "Epoch 15/15\n",
      "1875/1875 [==============================] - 3s 2ms/step - loss: 0.2450 - accuracy: 0.9306\n"
     ]
    },
    {
     "data": {
      "image/png": "[encoded data removed]",
      "text/plain": [
       "<Figure size 432x288 with 1 Axes>"
      ]
     },
     "metadata": {
      "needs_background": "light"
     },
     "output_type": "display_data"
    },
    {
     "data": {
      "image/png": "[encoded data removed]",
      "text/plain": [
       "<Figure size 432x288 with 1 Axes>"
      ]
     },
     "metadata": {
      "needs_background": "light"
     },
     "output_type": "display_data"
    }
   ],
   "source": [
    "# Train model\n",
    "model.compile(optimizer='adam', loss='sparse_categorical_crossentropy', metrics=['accuracy'])\n",
    "\n",
    "# Train\n",
    "print(\"Training Model\")\n",
    "# NOTE: Increase the number of epochs if you wish better accuracy\n",
    "history = model.fit(x_train, y_train, epochs=15)\n",
    "\n",
    "# Loss plot\n",
    "plt.plot(history.history[\"loss\"], color='r')\n",
    "plt.title(\"Loss\")\n",
    "plt.xlabel(\"Epoch\")\n",
    "plt.show()\n",
    "\n",
    "# Accuracy plot\n",
    "plt.plot(history.history[\"accuracy\"], color='b')\n",
    "plt.title(\"Accuracy\")\n",
    "plt.xlabel(\"Epoch\")\n",
    "plt.show()\n",
    "\n",
    "# Results\n",
    "# Training time (15 epochs): ~1 min\n",
    "# Initial Loss: 0.24\n",
    "# Initial Accuracy: 0.93"
   ]
  },
  {
   "cell_type": "code",
   "execution_count": 19,
   "metadata": {},
   "outputs": [
    {
     "name": "stdout",
     "output_type": "stream",
     "text": [
      "313/313 [==============================] - 0s 1ms/step - loss: 0.2744 - accuracy: 0.9218\n",
      "Test loss: 0.2744196951389313\n",
      "Test accuracy: 0.9218000173568726\n"
     ]
    }
   ],
   "source": [
    "# Evaluate Keras model performance\n",
    "keras_test_loss, keras_test_acc = model.evaluate(x_test, y_test)\n",
    "\n",
    "print('Test loss:', keras_test_loss)\n",
    "print('Test accuracy:', keras_test_acc)"
   ]
  },
  {
   "cell_type": "code",
   "execution_count": 39,
   "metadata": {},
   "outputs": [],
   "source": [
    "# If model was just created, update saved model\n",
    "# Note: This is using an older model format\n",
    "model.save('./mnist-model.h5')"
   ]
  },
  {
   "cell_type": "code",
   "execution_count": 21,
   "metadata": {},
   "outputs": [
    {
     "data": {
      "image/png": "[encoded data removed]",
      "text/plain": [
       "<Figure size 432x288 with 1 Axes>"
      ]
     },
     "metadata": {
      "needs_background": "light"
     },
     "output_type": "display_data"
    }
   ],
   "source": [
    "# Show random image via index from test set:\n",
    "# Plotting data\n",
    "image_index = int(np.random.randint(0, x_test.shape[0], size=1)[0])\n",
    "expected_label = y_test[image_index]\n",
    "digit_image = x_test[image_index]\n",
    "\n",
    "# Plot\n",
    "plt.title('Example %d. Label: %d' % (image_index, expected_label))\n",
    "plt.imshow(digit_image, cmap='Greys')\n",
    "plt.show()"
   ]
  },
  {
   "cell_type": "code",
   "execution_count": 22,
   "metadata": {},
   "outputs": [
    {
     "name": "stdout",
     "output_type": "stream",
     "text": [
      "Keras inferences with 0.06892364025115967 second in average\n",
      "[[1.1439949e-08 2.0883925e-07 4.5012609e-08 9.6950034e-04 6.1094388e-02\n",
      "  9.9643052e-04 3.1785699e-10 3.7724923e-03 3.6835391e-03 9.2948341e-01]]\n",
      "Predicted value: 9\n",
      "Correct prediction !\n"
     ]
    }
   ],
   "source": [
    "# Reshape image for inference/prediction\n",
    "digit_image = digit_image.reshape(1, imgSize0, imgSize1, 1)\n",
    "\n",
    "# Repeat to take the average execution time\n",
    "loop_count = 10\n",
    "\n",
    "start_time = time.time()\n",
    "for i in range(loop_count):\n",
    "    prediction = model.predict(digit_image)\n",
    "print(\"Keras inferences with %s second in average\" %((time.time() - start_time) / loop_count))\n",
    "\n",
    "print(prediction)\n",
    "predicted_label = prediction.argmax()\n",
    "print('Predicted value:', predicted_label)\n",
    "if (expected_label == predicted_label):\n",
    "  print('Correct prediction !')\n",
    "else:\n",
    "  print('Wrong prediction !')"
   ]
  },
  {
   "cell_type": "markdown",
   "metadata": {},
   "source": [
    "## Conversion from Keras to ONNX\n",
    "\n",
    "Now we know that the keras model is working, we convert it to ONNX format and re-evaluate the model.\n",
    "\n",
    "### Result Explanation:\n",
    "1. Eager_mode: \n",
    "2. Converting Operators: "
   ]
  },
  {
   "cell_type": "code",
   "execution_count": 40,
   "metadata": {},
   "outputs": [
    {
     "name": "stderr",
     "output_type": "stream",
     "text": [
      "tf executing eager_mode: True\n",
      "INFO:keras2onnx:tf executing eager_mode: True\n",
      "tf.keras model eager_mode: False\n",
      "INFO:keras2onnx:tf.keras model eager_mode: False\n",
      "Processing a keras layer - (dense_1: <class 'tensorflow.python.keras.layers.core.Dense'>)\n",
      "DEBUG:keras2onnx:Processing a keras layer - (dense_1: <class 'tensorflow.python.keras.layers.core.Dense'>)\n",
      "\toutput: dense_1/Identity:0\n",
      "DEBUG:keras2onnx:\toutput: dense_1/Identity:0\n",
      "\tinput : dense/Identity:0\n",
      "DEBUG:keras2onnx:\tinput : dense/Identity:0\n",
      "Processing a keras layer - (dense: <class 'tensorflow.python.keras.layers.core.Dense'>)\n",
      "DEBUG:keras2onnx:Processing a keras layer - (dense: <class 'tensorflow.python.keras.layers.core.Dense'>)\n",
      "\toutput: dense/Identity:0\n",
      "DEBUG:keras2onnx:\toutput: dense/Identity:0\n",
      "\tinput : flatten/Identity:0\n",
      "DEBUG:keras2onnx:\tinput : flatten/Identity:0\n",
      "Processing a keras layer - (flatten: <class 'tensorflow.python.keras.layers.core.Flatten'>)\n",
      "DEBUG:keras2onnx:Processing a keras layer - (flatten: <class 'tensorflow.python.keras.layers.core.Flatten'>)\n",
      "\toutput: flatten/Identity:0\n",
      "DEBUG:keras2onnx:\toutput: flatten/Identity:0\n",
      "\tinput : flatten_input:0\n",
      "DEBUG:keras2onnx:\tinput : flatten_input:0\n",
      "var: flatten_input\n",
      "DEBUG:keras2onnx:var: flatten_input\n",
      "var: flatten_input:0\n",
      "DEBUG:keras2onnx:var: flatten_input:0\n",
      "var: flatten_input:01\n",
      "DEBUG:keras2onnx:var: flatten_input:01\n",
      "var: flatten/Identity:0\n",
      "DEBUG:keras2onnx:var: flatten/Identity:0\n",
      "var: dense/Identity:0\n",
      "DEBUG:keras2onnx:var: dense/Identity:0\n",
      "var: dense_1/Identity:01\n",
      "DEBUG:keras2onnx:var: dense_1/Identity:01\n",
      "var: dense_1/Identity:0\n",
      "DEBUG:keras2onnx:var: dense_1/Identity:0\n",
      "var: dense_1\n",
      "DEBUG:keras2onnx:var: dense_1\n",
      "Converting the operator (Identity): Identity\n",
      "DEBUG:keras2onnx:Converting the operator (Identity): Identity\n",
      "Converting the operator (Identity1): Identity\n",
      "DEBUG:keras2onnx:Converting the operator (Identity1): Identity\n",
      "Converting the operator (Identity2): Identity\n",
      "DEBUG:keras2onnx:Converting the operator (Identity2): Identity\n",
      "Converting the operator (dense_1): <class 'tensorflow.python.keras.layers.core.Dense'>\n",
      "DEBUG:keras2onnx:Converting the operator (dense_1): <class 'tensorflow.python.keras.layers.core.Dense'>\n",
      "Converting the operator (dense): <class 'tensorflow.python.keras.layers.core.Dense'>\n",
      "DEBUG:keras2onnx:Converting the operator (dense): <class 'tensorflow.python.keras.layers.core.Dense'>\n",
      "Converting the operator (flatten): <class 'tensorflow.python.keras.layers.core.Flatten'>\n",
      "DEBUG:keras2onnx:Converting the operator (flatten): <class 'tensorflow.python.keras.layers.core.Flatten'>\n",
      "Converting the operator (flatten/Const): Const\n",
      "DEBUG:keras2onnx:Converting the operator (flatten/Const): Const\n",
      "Converting the operator (Identity3): Identity\n",
      "DEBUG:keras2onnx:Converting the operator (Identity3): Identity\n",
      "WARNING:onnxmltools:The maximum opset needed by this model is only 11.\n"
     ]
    },
    {
     "name": "stdout",
     "output_type": "stream",
     "text": [
      "keras2onnx version is 1.7.0\n",
      "Model: \"sequential\"\n",
      "_________________________________________________________________\n",
      "Layer (type)                 Output Shape              Param #   \n",
      "=================================================================\n",
      "flatten (Flatten)            (None, 784)               0         \n",
      "_________________________________________________________________\n",
      "dense (Dense)                (None, 8)                 6280      \n",
      "_________________________________________________________________\n",
      "dense_1 (Dense)              (None, 10)                90        \n",
      "=================================================================\n",
      "Total params: 6,370\n",
      "Trainable params: 6,370\n",
      "Non-trainable params: 0\n",
      "_________________________________________________________________\n",
      "None\n"
     ]
    }
   ],
   "source": [
    "import keras2onnx\n",
    "print(\"keras2onnx Version: \"+ keras2onnx.__version__)\n",
    "\n",
    "# Convert to onnx model\n",
    "onnx_model = keras2onnx.convert_keras(model, 'mnist-onnx', debug_mode=1)\n",
    "output_model_path = \"./mnist-model.onnx\"\n",
    "\n",
    "# Save the model in ONNX format\n",
    "keras2onnx.save_model(onnx_model, output_model_path)"
   ]
  },
  {
   "cell_type": "markdown",
   "metadata": {},
   "source": [
    "## Evaluating ONNX Model Performance (Against Keras Model)\n",
    "\n",
    "1. Open ONNX Runtime session, providing model path...\n",
    "2. Define data type to use (float32 is standard and has acceptable precision)\n",
    "3. "
   ]
  },
  {
   "cell_type": "code",
   "execution_count": 41,
   "metadata": {},
   "outputs": [],
   "source": [
    "# Evaluate ONNX Model Performance\n",
    "import onnxruntime\n",
    "\n",
    "sess_options = onnxruntime.SessionOptions()\n",
    "sess = onnxruntime.InferenceSession(output_model_path, sess_options)\n",
    "data = [digit_image.astype(np.float32)]\n",
    "input_names = sess.get_inputs()\n",
    "feed = dict([(input.name, data[n]) for n, input in enumerate(sess.get_inputs())])"
   ]
  },
  {
   "cell_type": "code",
   "execution_count": 42,
   "metadata": {},
   "outputs": [
    {
     "name": "stdout",
     "output_type": "stream",
     "text": [
      "ONNX inferences with 0.00019958019256591797 second in average\n",
      "ONNX predicted value: 9\n",
      "Correct prediction!\n",
      "The ONNX's and keras' prediction are matching !\n"
     ]
    }
   ],
   "source": [
    "start_time = time.time()\n",
    "for i in range(loop_count):\n",
    "    onnx_predicted_label = sess.run(None, feed)[0].argmax()\n",
    "print(\"ONNX inferences with %s second in average\" %((time.time() - start_time) / loop_count))\n",
    "\n",
    "print('ONNX predicted value:', onnx_predicted_label)\n",
    "if (expected_label == onnx_predicted_label):\n",
    "  print('Correct prediction!')\n",
    "else:\n",
    "  print('Wrong prediction!')\n",
    "\n",
    "if (predicted_label == onnx_predicted_label):\n",
    "  print(\"The ONNX's and keras' prediction are matching !\")\n",
    "else:\n",
    "  print(\"The ONNX's and keras' prediction does not match !\")"
   ]
  },
  {
   "cell_type": "markdown",
   "metadata": {},
   "source": [
    "## Converting ONNX Model to TensorFlow\n",
    "\n",
    "1. Load ONNX model\n",
    "2. Prepare TF representation of model\n",
    "3. Export model into directory as a .pb file\n",
    "\n",
    "Simple as that!\n",
    "\n",
    "**Code Reference:**\n",
    "https://github.com/onnx/onnx-tensorflow/blob/master/example/onnx_to_tf.py"
   ]
  },
  {
   "cell_type": "code",
   "execution_count": 43,
   "metadata": {},
   "outputs": [
    {
     "ename": "ValidationError",
     "evalue": "Nodes in a graph must be topologically sorted, however input 'dense_1/Identity:0' of node: \n\n\u0012dense_1/Identity:0\u0012\u0007dense_1\u001a\tIdentity5\"\bIdentity:",
     "output_type": "error",
     "traceback": [
      "\u001b[1;31m---------------------------------------------------------------------------\u001b[0m",
      "\u001b[1;31mValidationError\u001b[0m                           Traceback (most recent call last)",
      "\u001b[1;32m<ipython-input-43-a0e231037211>\u001b[0m in \u001b[0;36m<module>\u001b[1;34m\u001b[0m\n\u001b[0;32m     11\u001b[0m \u001b[1;33m\u001b[0m\u001b[0m\n\u001b[0;32m     12\u001b[0m \u001b[1;31m# Prepare tensorflow representation\u001b[0m\u001b[1;33m\u001b[0m\u001b[1;33m\u001b[0m\u001b[1;33m\u001b[0m\u001b[0m\n\u001b[1;32m---> 13\u001b[1;33m \u001b[0mtf_rep\u001b[0m \u001b[1;33m=\u001b[0m \u001b[0mprepare\u001b[0m\u001b[1;33m(\u001b[0m\u001b[0monnx_model\u001b[0m\u001b[1;33m)\u001b[0m\u001b[1;33m\u001b[0m\u001b[1;33m\u001b[0m\u001b[0m\n\u001b[0m\u001b[0;32m     14\u001b[0m \u001b[1;33m\u001b[0m\u001b[0m\n\u001b[0;32m     15\u001b[0m \u001b[1;31m# Export model to .pb format\u001b[0m\u001b[1;33m\u001b[0m\u001b[1;33m\u001b[0m\u001b[1;33m\u001b[0m\u001b[0m\n",
      "\u001b[1;32mc:\\users\\aaram\\desktop\\code 717\\machine learning\\ml projects\\onnx\\keras-tf\\onnx-tensorflow\\onnx_tf\\backend.py\u001b[0m in \u001b[0;36mprepare\u001b[1;34m(cls, model, device, strict, logging_level, auto_cast, **kwargs)\u001b[0m\n\u001b[0;32m     62\u001b[0m     \u001b[1;33m:\u001b[0m\u001b[0mreturns\u001b[0m\u001b[1;33m:\u001b[0m \u001b[0mA\u001b[0m \u001b[0mTensorflowRep\u001b[0m \u001b[1;32mclass\u001b[0m \u001b[0mobject\u001b[0m \u001b[0mrepresenting\u001b[0m \u001b[0mthe\u001b[0m \u001b[0mONNX\u001b[0m \u001b[0mmodel\u001b[0m\u001b[1;33m\u001b[0m\u001b[1;33m\u001b[0m\u001b[0m\n\u001b[0;32m     63\u001b[0m     \"\"\"\n\u001b[1;32m---> 64\u001b[1;33m     \u001b[0msuper\u001b[0m\u001b[1;33m(\u001b[0m\u001b[0mTensorflowBackend\u001b[0m\u001b[1;33m,\u001b[0m \u001b[0mcls\u001b[0m\u001b[1;33m)\u001b[0m\u001b[1;33m.\u001b[0m\u001b[0mprepare\u001b[0m\u001b[1;33m(\u001b[0m\u001b[0mmodel\u001b[0m\u001b[1;33m,\u001b[0m \u001b[0mdevice\u001b[0m\u001b[1;33m,\u001b[0m \u001b[1;33m**\u001b[0m\u001b[0mkwargs\u001b[0m\u001b[1;33m)\u001b[0m\u001b[1;33m\u001b[0m\u001b[1;33m\u001b[0m\u001b[0m\n\u001b[0m\u001b[0;32m     65\u001b[0m     \u001b[0mcommon\u001b[0m\u001b[1;33m.\u001b[0m\u001b[0mlogger\u001b[0m\u001b[1;33m.\u001b[0m\u001b[0msetLevel\u001b[0m\u001b[1;33m(\u001b[0m\u001b[0mlogging_level\u001b[0m\u001b[1;33m)\u001b[0m\u001b[1;33m\u001b[0m\u001b[1;33m\u001b[0m\u001b[0m\n\u001b[0;32m     66\u001b[0m     \u001b[0mcommon\u001b[0m\u001b[1;33m.\u001b[0m\u001b[0mlogger\u001b[0m\u001b[1;33m.\u001b[0m\u001b[0mhandlers\u001b[0m\u001b[1;33m[\u001b[0m\u001b[1;36m0\u001b[0m\u001b[1;33m]\u001b[0m\u001b[1;33m.\u001b[0m\u001b[0msetLevel\u001b[0m\u001b[1;33m(\u001b[0m\u001b[0mlogging_level\u001b[0m\u001b[1;33m)\u001b[0m\u001b[1;33m\u001b[0m\u001b[1;33m\u001b[0m\u001b[0m\n",
      "\u001b[1;32m~\\miniconda3\\envs\\onnx_keras2tf_2\\lib\\site-packages\\onnx\\backend\\base.py\u001b[0m in \u001b[0;36mprepare\u001b[1;34m(cls, model, device, **kwargs)\u001b[0m\n\u001b[0;32m     72\u001b[0m                 ):  # type: (...) -> Optional[BackendRep]\n\u001b[0;32m     73\u001b[0m         \u001b[1;31m# TODO Remove Optional from return type\u001b[0m\u001b[1;33m\u001b[0m\u001b[1;33m\u001b[0m\u001b[1;33m\u001b[0m\u001b[0m\n\u001b[1;32m---> 74\u001b[1;33m         \u001b[0monnx\u001b[0m\u001b[1;33m.\u001b[0m\u001b[0mchecker\u001b[0m\u001b[1;33m.\u001b[0m\u001b[0mcheck_model\u001b[0m\u001b[1;33m(\u001b[0m\u001b[0mmodel\u001b[0m\u001b[1;33m)\u001b[0m\u001b[1;33m\u001b[0m\u001b[1;33m\u001b[0m\u001b[0m\n\u001b[0m\u001b[0;32m     75\u001b[0m         \u001b[1;32mreturn\u001b[0m \u001b[1;32mNone\u001b[0m\u001b[1;33m\u001b[0m\u001b[1;33m\u001b[0m\u001b[0m\n\u001b[0;32m     76\u001b[0m \u001b[1;33m\u001b[0m\u001b[0m\n",
      "\u001b[1;32m~\\miniconda3\\envs\\onnx_keras2tf_2\\lib\\site-packages\\onnx\\checker.py\u001b[0m in \u001b[0;36mcheck_model\u001b[1;34m(model, full_check)\u001b[0m\n\u001b[0;32m    100\u001b[0m         \u001b[1;32mif\u001b[0m \u001b[0msys\u001b[0m\u001b[1;33m.\u001b[0m\u001b[0mgetsizeof\u001b[0m\u001b[1;33m(\u001b[0m\u001b[0mprotobuf_string\u001b[0m\u001b[1;33m)\u001b[0m \u001b[1;33m>\u001b[0m \u001b[0mMAXIMUM_PROTOBUF\u001b[0m\u001b[1;33m:\u001b[0m\u001b[1;33m\u001b[0m\u001b[1;33m\u001b[0m\u001b[0m\n\u001b[0;32m    101\u001b[0m             \u001b[1;32mraise\u001b[0m \u001b[0mValueError\u001b[0m\u001b[1;33m(\u001b[0m\u001b[1;34m'This protobuf of onnx model is too large (>2GB). Call check_model with model path instead.'\u001b[0m\u001b[1;33m)\u001b[0m\u001b[1;33m\u001b[0m\u001b[1;33m\u001b[0m\u001b[0m\n\u001b[1;32m--> 102\u001b[1;33m         \u001b[0mC\u001b[0m\u001b[1;33m.\u001b[0m\u001b[0mcheck_model\u001b[0m\u001b[1;33m(\u001b[0m\u001b[0mprotobuf_string\u001b[0m\u001b[1;33m)\u001b[0m\u001b[1;33m\u001b[0m\u001b[1;33m\u001b[0m\u001b[0m\n\u001b[0m\u001b[0;32m    103\u001b[0m         \u001b[0mm\u001b[0m \u001b[1;33m=\u001b[0m \u001b[0mmodel\u001b[0m\u001b[1;33m\u001b[0m\u001b[1;33m\u001b[0m\u001b[0m\n\u001b[0;32m    104\u001b[0m     \u001b[1;32mif\u001b[0m \u001b[0mfull_check\u001b[0m\u001b[1;33m:\u001b[0m\u001b[1;33m\u001b[0m\u001b[1;33m\u001b[0m\u001b[0m\n",
      "\u001b[1;31mValidationError\u001b[0m: Nodes in a graph must be topologically sorted, however input 'dense_1/Identity:0' of node: \n\n\u0012dense_1/Identity:0\u0012\u0007dense_1\u001a\tIdentity5\"\bIdentity:"
     ]
    }
   ],
   "source": [
    "import onnx\n",
    "import warnings\n",
    "from onnx_tf.backend import prepare\n",
    "\n",
    "warnings.filterwarnings('ignore') # Ignore all the warning messages in this tutorial\n",
    "\n",
    "# TODO: make a variable for saved model name\n",
    "\n",
    "# Load model from current directory\n",
    "onnx_model = onnx.load(\"mnist-model.onnx\")\n",
    "\n",
    "# Prepare tensorflow representation\n",
    "tf_rep = prepare(onnx_model)\n",
    "\n",
    "# Export model to .pb format\n",
    "#tf_rep.export_graph(\"mnist-model.pb\")"
   ]
  },
  {
   "cell_type": "code",
   "execution_count": 14,
   "metadata": {},
   "outputs": [
    {
     "ename": "NameError",
     "evalue": "name 'tf_rep' is not defined",
     "output_type": "error",
     "traceback": [
      "\u001b[1;31m---------------------------------------------------------------------------\u001b[0m",
      "\u001b[1;31mNameError\u001b[0m                                 Traceback (most recent call last)",
      "\u001b[1;32m<ipython-input-14-aca83eec3660>\u001b[0m in \u001b[0;36m<module>\u001b[1;34m\u001b[0m\n\u001b[0;32m      1\u001b[0m \u001b[1;31m# Print nodes of the model\u001b[0m\u001b[1;33m\u001b[0m\u001b[1;33m\u001b[0m\u001b[1;33m\u001b[0m\u001b[0m\n\u001b[1;32m----> 2\u001b[1;33m \u001b[0mprint\u001b[0m\u001b[1;33m(\u001b[0m\u001b[0mtf_rep\u001b[0m\u001b[1;33m.\u001b[0m\u001b[0minputs\u001b[0m\u001b[1;33m)\u001b[0m \u001b[1;31m# Input nodes to the model\u001b[0m\u001b[1;33m\u001b[0m\u001b[1;33m\u001b[0m\u001b[0m\n\u001b[0m\u001b[0;32m      3\u001b[0m \u001b[0mprint\u001b[0m\u001b[1;33m(\u001b[0m\u001b[1;34m'-----'\u001b[0m\u001b[1;33m)\u001b[0m\u001b[1;33m\u001b[0m\u001b[1;33m\u001b[0m\u001b[0m\n\u001b[0;32m      4\u001b[0m \u001b[0mprint\u001b[0m\u001b[1;33m(\u001b[0m\u001b[0mtf_rep\u001b[0m\u001b[1;33m.\u001b[0m\u001b[0moutputs\u001b[0m\u001b[1;33m)\u001b[0m \u001b[1;31m# Output nodes from the model\u001b[0m\u001b[1;33m\u001b[0m\u001b[1;33m\u001b[0m\u001b[0m\n\u001b[0;32m      5\u001b[0m \u001b[0mprint\u001b[0m\u001b[1;33m(\u001b[0m\u001b[1;34m'-----'\u001b[0m\u001b[1;33m)\u001b[0m\u001b[1;33m\u001b[0m\u001b[1;33m\u001b[0m\u001b[0m\n",
      "\u001b[1;31mNameError\u001b[0m: name 'tf_rep' is not defined"
     ]
    }
   ],
   "source": [
    "# Print nodes of the model\n",
    "print(tf_rep.inputs) # Input nodes to the model\n",
    "print('-----')\n",
    "print(tf_rep.outputs) # Output nodes from the model\n",
    "print('-----')\n",
    "print(tf_rep.tensor_dict) # All nodes in the model"
   ]
  },
  {
   "cell_type": "code",
   "execution_count": null,
   "metadata": {},
   "outputs": [],
   "source": []
  }
 ],
 "metadata": {
  "kernelspec": {
   "display_name": "Python 3",
   "language": "python",
   "name": "python3"
  },
  "language_info": {
   "codemirror_mode": {
    "name": "ipython",
    "version": 3
   },
   "file_extension": ".py",
   "mimetype": "text/x-python",
   "name": "python",
   "nbconvert_exporter": "python",
   "pygments_lexer": "ipython3",
   "version": "3.7.0"
  }
 },
 "nbformat": 4,
 "nbformat_minor": 4
}
