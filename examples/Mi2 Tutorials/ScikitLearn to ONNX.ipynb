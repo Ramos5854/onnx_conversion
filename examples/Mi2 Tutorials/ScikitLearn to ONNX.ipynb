{
 "cells": [
  {
   "cell_type": "markdown",
   "metadata": {},
   "source": [
    "## Convert a Trained Scikit-Learn Model to ONNX\n",
    "\n",
    "The goal of this script is to load the Iris dataset (imported from sklearn datasets), train it, and finally convert to an ONNX format.\n",
    "\n",
    "### Load and Train Iris Model\n",
    "1. Load Iris model by importing from sklearn.datasets\n",
    "2. Display features and labels of dataset\n",
    "3. Split dataset into Training and Test sets\n",
    "4. Train model\n",
    "5. Create prediction from feature set and check accuracy\n",
    "\n",
    "Reference: RandomForestClassifier()\n",
    "https://www.datacamp.com/community/tutorials/random-forests-classifier-python"
   ]
  },
  {
   "cell_type": "code",
   "execution_count": 8,
   "metadata": {},
   "outputs": [],
   "source": [
    "# User Inputs\n",
    "verboseMode = True\n",
    "viewNetron = False"
   ]
  },
  {
   "cell_type": "code",
   "execution_count": 20,
   "metadata": {},
   "outputs": [],
   "source": [
    "from sklearn.datasets import load_iris\n",
    "from sklearn.model_selection import train_test_split\n",
    "from sklearn.ensemble import RandomForestClassifier\n",
    "from sklearn import metrics\n",
    "\n",
    "from matplotlib import pyplot as plt\n",
    "import os\n",
    "import pandas as pd\n",
    "import seaborn as sns"
   ]
  },
  {
   "cell_type": "code",
   "execution_count": 13,
   "metadata": {},
   "outputs": [
    {
     "name": "stdout",
     "output_type": "stream",
     "text": [
      "---- Scikit-Learn to ONNX.ipynb ----\n",
      "\n",
      "Iris model loaded!\n",
      "Displaying model information...\n",
      "\n",
      "Target Names:  ['setosa' 'versicolor' 'virginica'] \n",
      "Feature Names:  ['sepal length (cm)', 'sepal width (cm)', 'petal length (cm)', 'petal width (cm)'] \n",
      "\n",
      "Displaying example DataFrame...\n",
      "\n",
      "   sepal length  sepal width  petal length  petal width  species\n",
      "0           5.1          3.5           1.4          0.2        0\n",
      "1           4.9          3.0           1.4          0.2        0\n",
      "2           4.7          3.2           1.3          0.2        0\n",
      "3           4.6          3.1           1.5          0.2        0\n",
      "4           5.0          3.6           1.4          0.2        0\n",
      "\n",
      "Training model...\n",
      "Accuracy:  0.9210526315789473\n"
     ]
    }
   ],
   "source": [
    "# Script start\n",
    "print(\"---- Scikit-Learn to ONNX.ipynb ----\\n\")\n",
    "\n",
    "# Load Iris model\n",
    "iris = load_iris()\n",
    "print(\"Iris model loaded!\")\n",
    "\n",
    "# Print target and feature names so we know more about the dataset\n",
    "print(\"Displaying model information...\\n\")\n",
    "if verboseMode:\n",
    "    print(\"Target Names: \", iris.target_names, \"\\n\"\n",
    "          \"Feature Names: \", iris.feature_names, \"\\n\")\n",
    "\n",
    "    # Create DataFrame of given iris dataset\n",
    "    print(\"Displaying example DataFrame...\\n\")\n",
    "    data = pd.DataFrame({\n",
    "        'sepal length':iris.data[:,0],\n",
    "        'sepal width':iris.data[:,1],\n",
    "        'petal length':iris.data[:,2],\n",
    "        'petal width':iris.data[:,3],\n",
    "        'species':iris.target\n",
    "    })\n",
    "    print(data.head())\n",
    "\n",
    "# Define X as features, y as label (species) then split dataset into training/test set\n",
    "X, y = iris.data, iris.target\n",
    "X_train, X_test, y_train, y_test = train_test_split(X, y)\n",
    "\n",
    "# Train model on training set and perform predictions on test set\n",
    "print(\"\\nTraining model...\")\n",
    "model = RandomForestClassifier(n_estimators = 100) # create Gaussian Classifier\n",
    "model.fit(X_train, y_train) # train model\n",
    "y_pred = model.predict(X_test)\n",
    "\n",
    "# Model accuracy\n",
    "print(\"Accuracy: \", metrics.accuracy_score(y_test, y_pred))\n",
    "\n",
    "# Question: The first time this is run, the accuracy is 1.0, why is this?"
   ]
  },
  {
   "cell_type": "code",
   "execution_count": 16,
   "metadata": {},
   "outputs": [
    {
     "name": "stdout",
     "output_type": "stream",
     "text": [
      "[Setosa (1)] [Virginica (2)] [Versicolor (3)]\n",
      "Prediction for (3, 5, 4, 2):\n"
     ]
    },
    {
     "data": {
      "text/plain": [
       "array([1])"
      ]
     },
     "execution_count": 16,
     "metadata": {},
     "output_type": "execute_result"
    }
   ],
   "source": [
    "# Predict for a random set up values\n",
    "print(\"[Setosa (1)]\", \"[Virginica (2)]\", \"[Versicolor (3)]\")\n",
    "print(\"Prediction for (3, 5, 4, 2):\")\n",
    "model.predict([[3, 5, 4, 2]])"
   ]
  },
  {
   "cell_type": "code",
   "execution_count": 21,
   "metadata": {},
   "outputs": [
    {
     "name": "stdout",
     "output_type": "stream",
     "text": [
      "Model saved:  iris-model.pkl \n",
      "Directory:  C:\\Users\\aaram\\Desktop\\Code 717\\Machine Learning\\ML Projects\\ONNX\\Mi2 Tutorials\n"
     ]
    }
   ],
   "source": [
    "# Save Scikit-Learn Model (using Pickle)\n",
    "import pickle\n",
    "\n",
    "pklFile = \"iris-model.pkl\"\n",
    "with open(pklFile, 'wb') as file:\n",
    "    pickle.dump(model, file)\n",
    "    \n",
    "print(\"Model saved: \", pklFile, \"\\n\"\n",
    "      \"Directory: \", os.getcwd())"
   ]
  },
  {
   "cell_type": "markdown",
   "metadata": {},
   "source": [
    "**Feature Importance (Extra)**\n",
    "\n",
    "The feature importance referes to a class of techniques for assigning scores to input features to a predictive model indicating the relative importance of each feature when making a prediction.\n",
    "\n",
    "**CART Feature Importance**\n",
    "The CART algorithm for feature importance used in scikit-learn is used within the *feature_importances* property allowing you to access the importance scores. These features were generated when running *RandomForestClassifier* above.\n",
    "\n",
    "Reference: \n",
    "https://machinelearningmastery.com/calculate-feature-importance-with-python/"
   ]
  },
  {
   "cell_type": "code",
   "execution_count": 18,
   "metadata": {},
   "outputs": [
    {
     "name": "stdout",
     "output_type": "stream",
     "text": [
      "Sklearn Version:  0.23.2\n"
     ]
    },
    {
     "data": {
      "image/png": "[encoded data removed]",
      "text/plain": [
       "<Figure size 432x288 with 1 Axes>"
      ]
     },
     "metadata": {
      "needs_background": "light"
     },
     "output_type": "display_data"
    }
   ],
   "source": [
    "# Visualize the feature importance using seaborn\n",
    "\n",
    "# Check sklearn version; we need >= 0.22.1\n",
    "import sklearn\n",
    "print(\"Sklearn Version: \", sklearn.__version__)\n",
    "\n",
    "# Creating a bar plot\n",
    "feature_imp = pd.Series(model.feature_importances_,index=iris.feature_names).sort_values(ascending=False)\n",
    "sns.barplot(x = feature_imp, y = feature_imp.index)\n",
    "\n",
    "# Add labels to your graph\n",
    "plt.xlabel('Feature Importance Score')\n",
    "plt.ylabel('Features')\n",
    "plt.title(\"Visualizing Important Features\")\n",
    "plt.show()"
   ]
  },
  {
   "cell_type": "markdown",
   "metadata": {},
   "source": [
    "### Convert Scikit-Learn model to ONNX\n",
    "\n",
    "This is a very straightforward conversion using skl2onnx.\n",
    "\n",
    "**Workflow:**\n",
    "1. The trained iris model, iris-model.pkl imported from sklearn is loaded\n",
    "2. Datatype converted to Float\n",
    "3. Scikit-Learn model converted to ONNX via *convert_sklearn* \n",
    "4. The output **iris-model.onnx** is saved to the current directory"
   ]
  },
  {
   "cell_type": "code",
   "execution_count": 17,
   "metadata": {},
   "outputs": [
    {
     "name": "stdout",
     "output_type": "stream",
     "text": [
      "Model saved:  iris-model.onnx\n"
     ]
    }
   ],
   "source": [
    "# Convert into ONNX format\n",
    "from skl2onnx import convert_sklearn\n",
    "from skl2onnx.common.data_types import FloatTensorType\n",
    "\n",
    "modelONNX = \"iris-model.onnx\"\n",
    "\n",
    "initial_type = [('float_input', FloatTensorType([None, 4]))]\n",
    "onnx = convert_sklearn(model, initial_types = initial_type)\n",
    "with open(\"iris-model.onnx\", \"wb\") as file:\n",
    "    file.write(onnx.SerializeToString())\n",
    "    \n",
    "print(\"Model saved: \", modelONNX)"
   ]
  },
  {
   "cell_type": "markdown",
   "metadata": {},
   "source": [
    "### Use ONNX Runtime for Inference on ONNX model\n",
    "\n",
    "ONNX Runtime can be used to load any ONNX model for inference. The test dataset is a Numpy array with 3 elements of the Iris dataset (each class of Iris flower).\n",
    "\n",
    "**Workflow:**\n",
    "1. An ONNX session is created to run on iris-model.onnx already saved within the working directory.\n",
    "2. Input and label names are imported via indexing\n",
    "3. The datatype of the test set is set to FP32 to match input datatype."
   ]
  },
  {
   "cell_type": "code",
   "execution_count": 18,
   "metadata": {},
   "outputs": [
    {
     "name": "stdout",
     "output_type": "stream",
     "text": [
      "Input Name:  float_input\n",
      "Label Name:  output_label\n"
     ]
    }
   ],
   "source": [
    "import onnxruntime as rt\n",
    "import numpy\n",
    "\n",
    "sess = rt.InferenceSession(modelONNX)\n",
    "input_name = sess.get_inputs()[0].name\n",
    "label_name = sess.get_outputs()[0].name\n",
    "pred_onnx = sess.run([label_name], {input_name: X_test.astype(numpy.float32)})[0]\n",
    "\n",
    "print(\"Input Name: \", input_name)\n",
    "print(\"Label Name: \", label_name)"
   ]
  },
  {
   "cell_type": "code",
   "execution_count": 2,
   "metadata": {},
   "outputs": [
    {
     "name": "stdout",
     "output_type": "stream",
     "text": [
      "Serving 'iris-model.onnx' at http://localhost:False\n"
     ]
    }
   ],
   "source": [
    "# Visualize model within Netron (if you installed)\n",
    "if viewNetron:\n",
    "    import netron\n",
    "    netron.start(modelONNX, port=8081)"
   ]
  },
  {
   "cell_type": "code",
   "execution_count": null,
   "metadata": {},
   "outputs": [],
   "source": []
  }
 ],
 "metadata": {
  "kernelspec": {
   "display_name": "Python 3",
   "language": "python",
   "name": "python3"
  },
  "language_info": {
   "codemirror_mode": {
    "name": "ipython",
    "version": 3
   },
   "file_extension": ".py",
   "mimetype": "text/x-python",
   "name": "python",
   "nbconvert_exporter": "python",
   "pygments_lexer": "ipython3",
   "version": "3.7.0"
  }
 },
 "nbformat": 4,
 "nbformat_minor": 4
}
