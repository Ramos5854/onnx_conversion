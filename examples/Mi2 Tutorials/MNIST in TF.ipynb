{
 "cells": [
  {
   "cell_type": "markdown",
   "metadata": {},
   "source": [
    "## MNIST in TF using TensorFlow-Nightly\n",
    "\n",
    "This script takes the MNIST database from TensorFlow Datasets, through tensorflow-nightly. \n",
    "\n",
    "*tf-nightly* is a pip package built and released to PyPI every night. Therefore it contains the latest versions of each model.\n",
    "\n",
    "**Workflow**\n",
    "1. Download dataset using *tfds.load* (tensorflow dataset)\n",
    "2. Save data as a *tfrecord* file\n",
    "3. Load *tfrecord* and create *tf.data.Dataset*\n",
    "\n",
    "Reference:\n",
    "https://www.tensorflow.org/datasets/overview"
   ]
  },
  {
   "cell_type": "code",
   "execution_count": 1,
   "metadata": {},
   "outputs": [
    {
     "name": "stdout",
     "output_type": "stream",
     "text": [
      "TF Version:  2.2.0\n"
     ]
    }
   ],
   "source": [
    "import matplotlib.pyplot as plt\n",
    "import numpy as np\n",
    "import tensorflow as tf\n",
    "\n",
    "import tensorflow_datasets as tfds\n",
    "\n",
    "print(\"TF Version: \", tf.__version__)"
   ]
  },
  {
   "cell_type": "code",
   "execution_count": 2,
   "metadata": {},
   "outputs": [],
   "source": [
    "# Print list of availible datasets (optional)\n",
    "# tfds.list_builders()"
   ]
  },
  {
   "cell_type": "code",
   "execution_count": 3,
   "metadata": {},
   "outputs": [
    {
     "name": "stdout",
     "output_type": "stream",
     "text": [
      "<_OptionsDataset shapes: {image: (28, 28, 1), label: ()}, types: {image: tf.uint8, label: tf.int64}>\n"
     ]
    }
   ],
   "source": [
    "# Load mnist from tfds and read directly from public GCS bucket\n",
    "ds = tfds.load('mnist', split='train', shuffle_files=True, try_gcs=True)\n",
    "assert isinstance(ds, tf.data.Dataset)\n",
    "print(ds)"
   ]
  },
  {
   "cell_type": "code",
   "execution_count": 4,
   "metadata": {},
   "outputs": [
    {
     "name": "stdout",
     "output_type": "stream",
     "text": [
      "<_OptionsDataset shapes: {image: (28, 28, 1), label: ()}, types: {image: tf.uint8, label: tf.int64}>\n"
     ]
    }
   ],
   "source": [
    "# Create the tfrecord files (no-op if already exists)\n",
    "builder = tfds.builder('mnist')\n",
    "builder.download_and_prepare()\n",
    "\n",
    "# Load the `tf.data.Dataset`\n",
    "ds = builder.as_dataset(split='train', shuffle_files=True)\n",
    "print(ds)"
   ]
  },
  {
   "cell_type": "markdown",
   "metadata": {},
   "source": [
    "### Iterate over Dataset\n",
    "\n",
    "#### Method 1 - As dict:\n",
    "By default, the *tf.data.Dataset* object contains a *dict* of *tf.Tensor*\n",
    "\n",
    "#### Method 2 - As tuple (supervised):\n",
    "When *as_supervised=True*, you can get a tuple containing features and labels \n",
    "\n",
    "#### Method 3 - As numpy:\n",
    "\n",
    "#### Method 4 - As batched tf.Tensor: \n",
    "By using *batch_size=-1* you can load the full dataset in a single batch.\n",
    "*tfds.load* returns a dict or tuple (when as_supervised=True)\n",
    "\n",
    "**Warning: Make sure dataset can fit in memory and that all examples have same shape.**\n",
    "\n",
    "Reference:\n",
    "https://stackoverflow.com/questions/42480111/model-summary-in-pytorch"
   ]
  },
  {
   "cell_type": "code",
   "execution_count": 5,
   "metadata": {},
   "outputs": [
    {
     "name": "stdout",
     "output_type": "stream",
     "text": [
      "['image', 'label']\n",
      "(28, 28, 1) tf.Tensor(4, shape=(), dtype=int64)\n",
      "Iteration method:  As Dict\n",
      "(28, 28, 1) tf.Tensor(4, shape=(), dtype=int64)\n",
      "Iteration method:  As Tuple\n",
      "<class 'numpy.ndarray'> <class 'numpy.int64'> 4\n",
      "Iteration method:  As Numpy\n",
      "<class 'numpy.ndarray'> (10000, 28, 28, 1)\n",
      "Iteration method:  As Batched tf.Tensor\n"
     ]
    }
   ],
   "source": [
    "# Select iteration method:\n",
    "method = 1\n",
    "\n",
    "def as_dict():\n",
    "    ds = tfds.load('mnist', split='train')\n",
    "    ds = ds.take(1)  # Only take a single example\n",
    "\n",
    "    for example in ds:  # example is `{'image': tf.Tensor, 'label': tf.Tensor}`\n",
    "        print(list(example.keys()))\n",
    "        image = example[\"image\"]\n",
    "        label = example[\"label\"]\n",
    "        print(image.shape, label)\n",
    "    print(\"Iteration method: \", \"As Dict\")\n",
    "\n",
    "def as_tuple():\n",
    "    ds = tfds.load('mnist', split='train', as_supervised=True)\n",
    "    ds = ds.take(1)\n",
    "\n",
    "    for image, label in ds:  # example is (image, label)\n",
    "        print(image.shape, label)\n",
    "    print(\"Iteration method: \", \"As Tuple\")\n",
    "    \n",
    "def as_numpy():\n",
    "    ds = tfds.load('mnist', split='train', as_supervised=True)\n",
    "    ds = ds.take(1)\n",
    "\n",
    "    for image, label in tfds.as_numpy(ds):\n",
    "        print(type(image), type(label), label)\n",
    "    print(\"Iteration method: \", \"As Numpy\")\n",
    "\n",
    "def as_batched_tfTensor():\n",
    "    image, label = tfds.as_numpy(\n",
    "        tfds.load('mnist', split='test', batch_size=-1, as_supervised=True))\n",
    "    print(type(image), image.shape)\n",
    "    print(\"Iteration method: \", \"As Batched tf.Tensor\")\n",
    "    \n",
    "def iteration_method(method):\n",
    "    switcher = {\n",
    "        1: as_dict(),\n",
    "        2: as_tuple(),\n",
    "        3: as_numpy(),\n",
    "        4: as_batched_tfTensor(),\n",
    "    }\n",
    "\n",
    "iteration_method(method)"
   ]
  },
  {
   "cell_type": "markdown",
   "metadata": {},
   "source": [
    "### Visualization\n",
    "\n",
    "*tf.data.Dataset* objects can be converted to *pandas.DataFrame* with *tfds.as_dataframe* so it can be visualized in Colab\n",
    "\n",
    "1. Add *tfds.core.DatasetInfo* as 2nd arg to visualize images, audio, texts, videos, etc.\n",
    "2. Use *ds.take(x)* to display first \"x\" examples. *pandas.DataFrame* will load the full dataset in-memory which can be very expensive."
   ]
  },
  {
   "cell_type": "code",
   "execution_count": 6,
   "metadata": {},
   "outputs": [
    {
     "data": {
      "text/html": [
       "<style  type=\"text/css\" >\n",
       "</style><table id=\"T_a8416ca2_2abd_11eb_88d5_cc2f7146d6af\" ><thead>    <tr>        <th class=\"blank level0\" ></th>        <th class=\"col_heading level0 col0\" >image</th>        <th class=\"col_heading level0 col1\" >label</th>    </tr></thead><tbody>\n",
       "                <tr>\n",
       "                        <th id=\"T_a8416ca2_2abd_11eb_88d5_cc2f7146d6aflevel0_row0\" class=\"row_heading level0 row0\" >0</th>\n",
       "                        <td id=\"T_a8416ca2_2abd_11eb_88d5_cc2f7146d6afrow0_col0\" class=\"data row0 col0\" ><img src=\"data:image/png;base64,iVBORw0KGgoAAAANSUhEUgAAABwAAAAcCAAAAABXZoBIAAAAzElEQVR4nGNgGPQg5F8qjMmEIRn1XwinRvnvp2QxdTIyMjAwMDDksd17jCnpeN6CgYGBQZfhAhbzLP+WMzAwyPz8IAkXQuh8ycDAwMAQyHr1ORZJYQYGBgYGKYYDDFgkAxgZGBikMxnnISQZYQz2J0KXjwvpqV00+YfpnsS/f//++/v3bxiSGAuMYfp97rN3b1cz7MDiEQgI+bcGmYsatlH/T+PUyPD2jwVOOaOP23Br3P3vZyZOO///v7qGARd4/EkBt7FvbuOWoyIAAPBxN9oBRuu9AAAAAElFTkSuQmCC\" alt=\"Img\" /></td>\n",
       "                        <td id=\"T_a8416ca2_2abd_11eb_88d5_cc2f7146d6afrow0_col1\" class=\"data row0 col1\" >4</td>\n",
       "            </tr>\n",
       "            <tr>\n",
       "                        <th id=\"T_a8416ca2_2abd_11eb_88d5_cc2f7146d6aflevel0_row1\" class=\"row_heading level0 row1\" >1</th>\n",
       "                        <td id=\"T_a8416ca2_2abd_11eb_88d5_cc2f7146d6afrow1_col0\" class=\"data row1 col0\" ><img src=\"data:image/png;base64,iVBORw0KGgoAAAANSUhEUgAAABwAAAAcCAAAAABXZoBIAAAAmklEQVR4nGNgGOyAc/5KJlxyjIv+/TPEJan9798HWRgH3YhQBoZHj3HpfP/vVxQuOYF//54ieGjGNjEwXMalkeHbv3+eeCTfseAy1oCVYeofXBp3/f8lgUtO/su/azhtnPLvXwJOycv//uGU0//5bx1OySP//hngkuN5+u8tG4oIkj/VJBmO/8Il6cvAMBunlSIvX3DjlKQmAACHtTHZmy2LVAAAAABJRU5ErkJggg==\" alt=\"Img\" /></td>\n",
       "                        <td id=\"T_a8416ca2_2abd_11eb_88d5_cc2f7146d6afrow1_col1\" class=\"data row1 col1\" >1</td>\n",
       "            </tr>\n",
       "            <tr>\n",
       "                        <th id=\"T_a8416ca2_2abd_11eb_88d5_cc2f7146d6aflevel0_row2\" class=\"row_heading level0 row2\" >2</th>\n",
       "                        <td id=\"T_a8416ca2_2abd_11eb_88d5_cc2f7146d6afrow2_col0\" class=\"data row2 col0\" ><img src=\"data:image/png;base64,iVBORw0KGgoAAAANSUhEUgAAABwAAAAcCAAAAABXZoBIAAAA+0lEQVR4nM3QvyuEARzH8feVniSFiTBcKf8A85ESNqwkdbeY5NdmY/UXiM0z+Ad0SXZ1g0vJjw0Xi86pc13eD8NleJ47q3zG76tv3x/wJxk+jQ7bf8NldT9obdNl1fWW1nGh6mtLPIm0oJVWlvuIvOvMWx1qtqWa0U2aULNNNnCtT+MQapi0waK6CoR6mcS8Wuhq4Fqj1PZjU5NQnX0DUine433dD1qZBwjOrM/EsVc9AmCj6c5MWT8XADjX2mgMi+otABN1k0/YVncAFu/VLWLbPgNBduRxLBMQHe/FZ+Zs5EtLm8kP9F81MHrZTScNelZK6sFcXzP9o3wDadaKxdoXqEQAAAAASUVORK5CYII=\" alt=\"Img\" /></td>\n",
       "                        <td id=\"T_a8416ca2_2abd_11eb_88d5_cc2f7146d6afrow2_col1\" class=\"data row2 col1\" >0</td>\n",
       "            </tr>\n",
       "            <tr>\n",
       "                        <th id=\"T_a8416ca2_2abd_11eb_88d5_cc2f7146d6aflevel0_row3\" class=\"row_heading level0 row3\" >3</th>\n",
       "                        <td id=\"T_a8416ca2_2abd_11eb_88d5_cc2f7146d6afrow3_col0\" class=\"data row3 col0\" ><img src=\"data:image/png;base64,iVBORw0KGgoAAAANSUhEUgAAABwAAAAcCAAAAABXZoBIAAAA40lEQVR4nGNgGJpg//8OdCEWKM2obvgv/++6/zcZnJQebPuNqkjvLxI4IIgiJ3/v79/3b//9/fvv7993f/9NQzE2TZ6hc8J3JwYGBgaGK7cYeJE12n79+1cCxlH9+/cVB5LOlxy/pryHSUYyMO78gSR5W/vzU7gxfAz/cfq36fvfDw445Fr+/P3bg12KMebb37+7WbDKKSz89/fvNRmscjpb//79u0YBq5z0yb9//2bhcEvXv78fs1ixyzX//PsuHYc+gbvwAMcEmX//3kFzJxOc9YCRoesJLp3sx9+p4JIjGQAAnrpmBs0pxioAAAAASUVORK5CYII=\" alt=\"Img\" /></td>\n",
       "                        <td id=\"T_a8416ca2_2abd_11eb_88d5_cc2f7146d6afrow3_col1\" class=\"data row3 col1\" >7</td>\n",
       "            </tr>\n",
       "    </tbody></table>"
      ],
      "text/plain": [
       "                                               image  label\n",
       "0  [[[0], [0], [0], [0], [0], [0], [0], [0], [0],...      4\n",
       "1  [[[0], [0], [0], [0], [0], [0], [0], [0], [0],...      1\n",
       "2  [[[0], [0], [0], [0], [0], [0], [0], [0], [0],...      0\n",
       "3  [[[0], [0], [0], [0], [0], [0], [0], [0], [0],...      7"
      ]
     },
     "execution_count": 6,
     "metadata": {},
     "output_type": "execute_result"
    }
   ],
   "source": [
    "ds, info = tfds.load('mnist', split='train', with_info=True)\n",
    "\n",
    "tfds.as_dataframe(ds.take(4), info)"
   ]
  },
  {
   "cell_type": "code",
   "execution_count": 7,
   "metadata": {},
   "outputs": [],
   "source": [
    "import netron\n",
    "\n",
    "# Question: Where can I access the model?\n",
    "#netron.start(ds, port=8081)"
   ]
  },
  {
   "cell_type": "code",
   "execution_count": null,
   "metadata": {},
   "outputs": [],
   "source": []
  }
 ],
 "metadata": {
  "kernelspec": {
   "display_name": "Python 3",
   "language": "python",
   "name": "python3"
  },
  "language_info": {
   "codemirror_mode": {
    "name": "ipython",
    "version": 3
   },
   "file_extension": ".py",
   "mimetype": "text/x-python",
   "name": "python",
   "nbconvert_exporter": "python",
   "pygments_lexer": "ipython3",
   "version": "3.7.0"
  }
 },
 "nbformat": 4,
 "nbformat_minor": 4
}
