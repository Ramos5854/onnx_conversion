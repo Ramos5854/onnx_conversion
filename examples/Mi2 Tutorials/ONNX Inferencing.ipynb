{
 "cells": [
  {
   "cell_type": "markdown",
   "metadata": {},
   "source": [
    "## ONNX Inferencing\n",
    "\n",
    "### Writing  Inference Code for Prediction\n",
    "\n",
    "This script is intended to perform inference on a pre-trained MNIST model.\n",
    "\n",
    "Reference: \n",
    "https://thenewstack.io/tutorial-using-a-pre-trained-onnx-model-for-inferencing/"
   ]
  },
  {
   "cell_type": "code",
   "execution_count": 1,
   "metadata": {},
   "outputs": [],
   "source": [
    "import json\n",
    "import sys\n",
    "import os\n",
    "import time\n",
    "import numpy as np\n",
    "import cv2\n",
    "import onnx\n",
    "import onnxruntime\n",
    "from onnx import numpy_helper\n",
    "\n",
    "from pathlib import Path, PureWindowsPath"
   ]
  },
  {
   "cell_type": "code",
   "execution_count": 2,
   "metadata": {},
   "outputs": [
    {
     "name": "stdout",
     "output_type": "stream",
     "text": [
      "Image found! \n",
      "\n",
      "Current Dir:  C:\\Users\\aaram\\Desktop\\Code 717\\Machine Learning\\ML Projects\\ONNX\\Mi2 Tutorials\n",
      "\n",
      "Model:  mnist-8.onnx\n",
      "\n",
      "Image Loc: C:\\Users\\aaram\\Desktop\\Code 717\\Machine Learning\\Databases\\mnist_db\\img_1.jpg\n"
     ]
    }
   ],
   "source": [
    "# Initialize variables to store model path and model files\n",
    "cur_dir = os.getcwd()\n",
    "model_dir = Path(os.getcwd())\n",
    "model = \"mnist-8.onnx\"\n",
    "\n",
    "img_dir = PureWindowsPath(\"C:\\\\Users\\\\aaram\\\\Desktop\\\\Code 717\\\\Machine Learning\\\\Databases\\\\mnist_db\")\n",
    "img_name = \"img_1.jpg\"\n",
    "img_path = Path(img_dir) / img_name\n",
    "\n",
    "if not img_path.exists():\n",
    "    print(\"ERROR: Image file does not exist\")\n",
    "else:\n",
    "    print(\"Image found! \\n\")\n",
    "\n",
    "print(\"Current Dir: \", cur_dir)\n",
    "print(\"\")\n",
    "print(\"Model: \", model)\n",
    "print(\"\")\n",
    "print(\"Image Loc:\", img_path)"
   ]
  },
  {
   "cell_type": "markdown",
   "metadata": {},
   "source": [
    "## Load Image and Preprocess \n",
    "\n",
    "The following converts the image to grayscale and resizes to an 28x28 array. The array is used as an input to the model."
   ]
  },
  {
   "cell_type": "code",
   "execution_count": 7,
   "metadata": {},
   "outputs": [
    {
     "name": "stdout",
     "output_type": "stream",
     "text": [
      "Image Shape  (28, 28)\n"
     ]
    },
    {
     "data": {
      "image/png": "[encoded data removed]",
      "text/plain": [
       "<Figure size 432x288 with 1 Axes>"
      ]
     },
     "metadata": {},
     "output_type": "display_data"
    }
   ],
   "source": [
    "# Load and Preprocess the Image using OpenCV\n",
    "# Note: imread is not reading in the absolute path for some reason\n",
    "\n",
    "# Use cv2 to read an image from working directory (in grayscale)\n",
    "img = cv2.imread(img_name, 0)\n",
    "# Show image\n",
    "from matplotlib import pyplot as plt\n",
    "print(\"Image Shape \", img.shape) # imshow requires 2D array for plotting\n",
    "plt.imshow(img, 'gray')\n",
    "plt.title(img_name)\n",
    "plt.xticks([]), plt.yticks([])  # to hide tick values on X and Y axis\n",
    "plt.show()\n",
    "\n",
    "img = np.dot(img[...,:3], [0.299, 0.587, 0.114])\n",
    "img = cv2.resize(img, dsize=(28, 28), interpolation=cv2.INTER_AREA)\n",
    "\n",
    "img.resize((1, 1, 28, 28))"
   ]
  },
  {
   "cell_type": "code",
   "execution_count": 4,
   "metadata": {},
   "outputs": [],
   "source": [
    "# Convert image into a NumPy array of type float32\n",
    "data = json.dumps({'data': img.tolist()})\n",
    "data = np.array(json.loads(data)['data']).astype('float32')"
   ]
  },
  {
   "cell_type": "code",
   "execution_count": 5,
   "metadata": {},
   "outputs": [
    {
     "name": "stdout",
     "output_type": "stream",
     "text": [
      "Input Name:  Input3\n",
      "Output Name:  Plus214_Output_0\n"
     ]
    }
   ],
   "source": [
    "# Pass the data to model for inference\n",
    "data = json.dumps({'data': img.tolist()})\n",
    "data = np.array(json.loads(data)['data']).astype('float32')\n",
    "session = onnxruntime.InferenceSession(model, None)\n",
    "input_name = session.get_inputs()[0].name\n",
    "output_name = session.get_outputs()[0].name\n",
    "\n",
    "print(\"Input Name: \", input_name)\n",
    "print(\"Output Name: \", output_name)"
   ]
  },
  {
   "cell_type": "markdown",
   "metadata": {},
   "source": [
    "### Print prediction from infered"
   ]
  },
  {
   "cell_type": "code",
   "execution_count": 6,
   "metadata": {},
   "outputs": [
    {
     "name": "stdout",
     "output_type": "stream",
     "text": [
      "Predicted Value  2\n"
     ]
    }
   ],
   "source": [
    "# Pass input to session and print the prediction\n",
    "result = session.run([output_name], {input_name: data})\n",
    "prediction=int(np.argmax(np.array(result).squeeze(), axis=0))\n",
    "print(\"Predicted Value \", prediction)"
   ]
  },
  {
   "cell_type": "code",
   "execution_count": null,
   "metadata": {},
   "outputs": [],
   "source": []
  }
 ],
 "metadata": {
  "kernelspec": {
   "display_name": "Python 3",
   "language": "python",
   "name": "python3"
  },
  "language_info": {
   "codemirror_mode": {
    "name": "ipython",
    "version": 3
   },
   "file_extension": ".py",
   "mimetype": "text/x-python",
   "name": "python",
   "nbconvert_exporter": "python",
   "pygments_lexer": "ipython3",
   "version": "3.7.0"
  }
 },
 "nbformat": 4,
 "nbformat_minor": 4
}
