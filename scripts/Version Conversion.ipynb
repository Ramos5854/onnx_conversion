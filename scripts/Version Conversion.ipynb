{
 "cells": [
  {
   "cell_type": "markdown",
   "metadata": {},
   "source": [
    "# Converting ONNX Versions Programmatically\n",
    "\n",
    "This example will convert an ONNX model from opset 9 to 8.\n",
    "\n",
    "### Reference:\n",
    "https://github.com/onnx/tutorials/blob/master/tutorials/VersionConversion.md"
   ]
  },
  {
   "cell_type": "code",
   "execution_count": 1,
   "metadata": {},
   "outputs": [
    {
     "name": "stdout",
     "output_type": "stream",
     "text": [
      "Current Directory:  C:\\Users\\aaram\\Desktop\\Code 717\\Machine Learning\\ML Projects\\ONNX\n",
      "ONNX:  1.8.0\n"
     ]
    }
   ],
   "source": [
    "import os\n",
    "import onnx\n",
    "from onnx import version_converter\n",
    "\n",
    "currentDir = os.getcwd()\n",
    "print(\"Current Directory: \", currentDir)\n",
    "print(\"ONNX: \", onnx.__version__)"
   ]
  },
  {
   "cell_type": "code",
   "execution_count": 3,
   "metadata": {},
   "outputs": [
    {
     "name": "stdout",
     "output_type": "stream",
     "text": [
      "File Loaded:  mnist-model .onnx\n",
      "Opset:  0\n"
     ]
    },
    {
     "ename": "ValidationError",
     "evalue": "Nodes in a graph must be topologically sorted, however input 'dense_1/Identity:0' of node: \n\n\u0012dense_1/Identity:0\u0012\u0007dense_1\u001a\tIdentity5\"\bIdentity:",
     "output_type": "error",
     "traceback": [
      "\u001b[1;31m---------------------------------------------------------------------------\u001b[0m",
      "\u001b[1;31mValidationError\u001b[0m                           Traceback (most recent call last)",
      "\u001b[1;32m<ipython-input-3-71c6d7bba8c1>\u001b[0m in \u001b[0;36m<module>\u001b[1;34m\u001b[0m\n\u001b[0;32m     13\u001b[0m \u001b[1;33m\u001b[0m\u001b[0m\n\u001b[0;32m     14\u001b[0m \u001b[1;31m# Check that the IR is well formed\u001b[0m\u001b[1;33m\u001b[0m\u001b[1;33m\u001b[0m\u001b[1;33m\u001b[0m\u001b[0m\n\u001b[1;32m---> 15\u001b[1;33m \u001b[0monnx\u001b[0m\u001b[1;33m.\u001b[0m\u001b[0mchecker\u001b[0m\u001b[1;33m.\u001b[0m\u001b[0mcheck_model\u001b[0m\u001b[1;33m(\u001b[0m\u001b[0mmodel\u001b[0m\u001b[1;33m)\u001b[0m\u001b[1;33m\u001b[0m\u001b[1;33m\u001b[0m\u001b[0m\n\u001b[0m",
      "\u001b[1;32m~\\miniconda3\\envs\\onnx_keras2tf_2\\lib\\site-packages\\onnx\\checker.py\u001b[0m in \u001b[0;36mcheck_model\u001b[1;34m(model, full_check)\u001b[0m\n\u001b[0;32m    100\u001b[0m         \u001b[1;32mif\u001b[0m \u001b[0msys\u001b[0m\u001b[1;33m.\u001b[0m\u001b[0mgetsizeof\u001b[0m\u001b[1;33m(\u001b[0m\u001b[0mprotobuf_string\u001b[0m\u001b[1;33m)\u001b[0m \u001b[1;33m>\u001b[0m \u001b[0mMAXIMUM_PROTOBUF\u001b[0m\u001b[1;33m:\u001b[0m\u001b[1;33m\u001b[0m\u001b[1;33m\u001b[0m\u001b[0m\n\u001b[0;32m    101\u001b[0m             \u001b[1;32mraise\u001b[0m \u001b[0mValueError\u001b[0m\u001b[1;33m(\u001b[0m\u001b[1;34m'This protobuf of onnx model is too large (>2GB). Call check_model with model path instead.'\u001b[0m\u001b[1;33m)\u001b[0m\u001b[1;33m\u001b[0m\u001b[1;33m\u001b[0m\u001b[0m\n\u001b[1;32m--> 102\u001b[1;33m         \u001b[0mC\u001b[0m\u001b[1;33m.\u001b[0m\u001b[0mcheck_model\u001b[0m\u001b[1;33m(\u001b[0m\u001b[0mprotobuf_string\u001b[0m\u001b[1;33m)\u001b[0m\u001b[1;33m\u001b[0m\u001b[1;33m\u001b[0m\u001b[0m\n\u001b[0m\u001b[0;32m    103\u001b[0m         \u001b[0mm\u001b[0m \u001b[1;33m=\u001b[0m \u001b[0mmodel\u001b[0m\u001b[1;33m\u001b[0m\u001b[1;33m\u001b[0m\u001b[0m\n\u001b[0;32m    104\u001b[0m     \u001b[1;32mif\u001b[0m \u001b[0mfull_check\u001b[0m\u001b[1;33m:\u001b[0m\u001b[1;33m\u001b[0m\u001b[1;33m\u001b[0m\u001b[0m\n",
      "\u001b[1;31mValidationError\u001b[0m: Nodes in a graph must be topologically sorted, however input 'dense_1/Identity:0' of node: \n\n\u0012dense_1/Identity:0\u0012\u0007dense_1\u001a\tIdentity5\"\bIdentity:"
     ]
    }
   ],
   "source": [
    "# Load model and check opset\n",
    "\n",
    "# Variables\n",
    "modelPath = currentDir + \"/Keras-TF/\"\n",
    "modelName = \"mnist-model\"\n",
    "loadFile = modelPath + modelName + \".onnx\"\n",
    "\n",
    "# Load the model\n",
    "model = onnx.load(loadFile)\n",
    "inOpset = model.model_version\n",
    "print(\"File Loaded: \", modelName, \".onnx\")\n",
    "print(\"Opset: \", inOpset)\n",
    "\n",
    "# Check that the IR is well formed\n",
    "onnx.checker.check_model(model)\n"
   ]
  },
  {
   "cell_type": "code",
   "execution_count": null,
   "metadata": {},
   "outputs": [],
   "source": [
    "# Convert to opset 8\n",
    "converted_model = version_converter.convert_version(model, 8)\n",
    "\n",
    "# Save model\n",
    "newModelName = modelName + \"_v8.onnx\"\n",
    "saveFile = modelPath + newModelName\n",
    "onnx.save(converted_model, saveFile)"
   ]
  }
 ],
 "metadata": {
  "kernelspec": {
   "display_name": "Python 3",
   "language": "python",
   "name": "python3"
  },
  "language_info": {
   "codemirror_mode": {
    "name": "ipython",
    "version": 3
   },
   "file_extension": ".py",
   "mimetype": "text/x-python",
   "name": "python",
   "nbconvert_exporter": "python",
   "pygments_lexer": "ipython3",
   "version": "3.7.9"
  }
 },
 "nbformat": 4,
 "nbformat_minor": 4
}
